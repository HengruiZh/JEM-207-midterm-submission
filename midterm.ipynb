{
 "cells": [
  {
   "cell_type": "code",
   "execution_count": 87,
   "id": "29a5ef74-be6a-4689-a98a-615e04766723",
   "metadata": {},
   "outputs": [],
   "source": [
    "import json\n",
    "import requests\n",
    "import pandas as pd\n",
    "import seaborn as sns"
   ]
  },
  {
   "cell_type": "markdown",
   "id": "b28b44d0-b949-4215-9ab1-efde9d11c585",
   "metadata": {},
   "source": [
    "# Part 1"
   ]
  },
  {
   "cell_type": "markdown",
   "id": "4bf3ffc5-ca60-4e0c-818a-bc4ecbd5c52d",
   "metadata": {},
   "source": [
    "### 1"
   ]
  },
  {
   "cell_type": "code",
   "execution_count": 46,
   "id": "9a395649-ade5-4f1a-977f-04d4da1e9c65",
   "metadata": {},
   "outputs": [],
   "source": [
    "CCL = pd.read_csv('CCL.csv')\n",
    "EXR = pd.read_csv('EXR.csv')\n",
    "ISRG = pd.read_csv('ISRG.csv')"
   ]
  },
  {
   "cell_type": "code",
   "execution_count": 47,
   "id": "3ae66e42-42bb-4532-96f6-dfe8717f36ee",
   "metadata": {},
   "outputs": [
    {
     "name": "stdout",
     "output_type": "stream",
     "text": [
      "            Date       High        Low       Open      Close      Volume  \\\n",
      "0     2017-11-13  66.019997  64.449997  64.459999  65.980003   2554300.0   \n",
      "1     2017-11-14  66.330002  65.220001  65.930000  66.019997   2399000.0   \n",
      "2     2017-11-15  66.180000  65.419998  65.889999  65.779999   2246700.0   \n",
      "3     2017-11-16  66.279999  65.680000  66.019997  65.820000   2126400.0   \n",
      "4     2017-11-17  66.309998  65.610001  65.790001  66.220001   1839200.0   \n",
      "...          ...        ...        ...        ...        ...         ...   \n",
      "1254  2022-11-07   9.080000   8.570000   9.070000   8.760000  46375900.0   \n",
      "1255  2022-11-08   9.230000   8.830000   8.910000   9.100000  53290100.0   \n",
      "1256  2022-11-09   9.020000   8.520000   9.000000   8.560000  41664900.0   \n",
      "1257  2022-11-10   9.810000   9.080000   9.120000   9.780000  84559500.0   \n",
      "1258  2022-11-11  10.450000   9.760000  10.170000  10.350000  69819100.0   \n",
      "\n",
      "      Adj Close  \n",
      "0     60.323765  \n",
      "1     60.360317  \n",
      "2     60.140900  \n",
      "3     60.177471  \n",
      "4     60.543182  \n",
      "...         ...  \n",
      "1254   8.760000  \n",
      "1255   9.100000  \n",
      "1256   8.560000  \n",
      "1257   9.780000  \n",
      "1258  10.350000  \n",
      "\n",
      "[1259 rows x 7 columns]\n"
     ]
    }
   ],
   "source": [
    "print(CCL)"
   ]
  },
  {
   "cell_type": "code",
   "execution_count": 48,
   "id": "f03415fd-3c89-438c-9c8a-82ae31591508",
   "metadata": {},
   "outputs": [
    {
     "name": "stdout",
     "output_type": "stream",
     "text": [
      "CCL has difference between Close and Adj Close column.\n",
      "EXR has difference between Close and Adj Close column.\n",
      "ISRG has no difference between Close and Adj Close column.\n"
     ]
    }
   ],
   "source": [
    "if CCL['Close'].equals(CCL['Adj Close']):\n",
    "            print('CCL has no difference between Close and Adj Close column.')\n",
    "else:\n",
    "            print('CCL has difference between Close and Adj Close column.')\n",
    "\n",
    "if EXR['Close'].equals(EXR['Adj Close']):\n",
    "            print('EXR has no difference between Close and Adj Close column.')\n",
    "else:\n",
    "            print('EXR has difference between Close and Adj Close column.')\n",
    "\n",
    "if ISRG['Close'].equals(ISRG['Adj Close']):\n",
    "            print('ISRG has no difference between Close and Adj Close column.')\n",
    "else:\n",
    "            print('ISRG has difference between Close and Adj Close column.')"
   ]
  },
  {
   "cell_type": "markdown",
   "id": "831858f2-cedc-4643-819e-03aeca646340",
   "metadata": {},
   "source": [
    "### 2"
   ]
  },
  {
   "cell_type": "code",
   "execution_count": 49,
   "id": "4aa44a92-f165-4bae-83b1-3aaa3bb42124",
   "metadata": {},
   "outputs": [
    {
     "name": "stdout",
     "output_type": "stream",
     "text": [
      "66.21757507324219\n",
      "6.380000114440918\n",
      "226.72999572753903\n",
      "67.9879379272461\n",
      "365.4200134277344\n",
      "120.1866683959961\n"
     ]
    }
   ],
   "source": [
    "print(CCL['Adj Close'].max())\n",
    "print(CCL['Adj Close'].min())\n",
    "print(EXR['Adj Close'].max())\n",
    "print(EXR['Adj Close'].min())\n",
    "print(ISRG['Adj Close'].max())\n",
    "print(ISRG['Adj Close'].min())"
   ]
  },
  {
   "cell_type": "markdown",
   "id": "7baa4127-4308-4d4c-8536-593369d7bca2",
   "metadata": {},
   "source": [
    "### 3"
   ]
  },
  {
   "cell_type": "code",
   "execution_count": 50,
   "id": "b7919ae0-d8f9-40d4-aa56-d8c10c6517a0",
   "metadata": {},
   "outputs": [
    {
     "name": "stdout",
     "output_type": "stream",
     "text": [
      "            Date       High        Low       Open      Close      Volume  \\\n",
      "0     2017-11-13  66.019997  64.449997  64.459999  65.980003   2554300.0   \n",
      "1     2017-11-14  66.330002  65.220001  65.930000  66.019997   2399000.0   \n",
      "2     2017-11-15  66.180000  65.419998  65.889999  65.779999   2246700.0   \n",
      "3     2017-11-16  66.279999  65.680000  66.019997  65.820000   2126400.0   \n",
      "4     2017-11-17  66.309998  65.610001  65.790001  66.220001   1839200.0   \n",
      "...          ...        ...        ...        ...        ...         ...   \n",
      "1254  2022-11-07   9.080000   8.570000   9.070000   8.760000  46375900.0   \n",
      "1255  2022-11-08   9.230000   8.830000   8.910000   9.100000  53290100.0   \n",
      "1256  2022-11-09   9.020000   8.520000   9.000000   8.560000  41664900.0   \n",
      "1257  2022-11-10   9.810000   9.080000   9.120000   9.780000  84559500.0   \n",
      "1258  2022-11-11  10.450000   9.760000  10.170000  10.350000  69819100.0   \n",
      "\n",
      "      Adj Close      logR  \n",
      "0     60.323765       NaN  \n",
      "1     60.360317  0.000606  \n",
      "2     60.140900 -0.003635  \n",
      "3     60.177471  0.000608  \n",
      "4     60.543182  0.006077  \n",
      "...         ...       ...  \n",
      "1254   8.760000 -0.026667  \n",
      "1255   9.100000  0.038813  \n",
      "1256   8.560000 -0.059341  \n",
      "1257   9.780000  0.142523  \n",
      "1258  10.350000  0.058282  \n",
      "\n",
      "[1259 rows x 8 columns]\n",
      "            Date        High         Low        Open       Close     Volume  \\\n",
      "0     2017-11-13   87.110001   85.980003   86.389999   86.870003   917200.0   \n",
      "1     2017-11-14   87.099998   85.980003   86.879997   86.339996   782200.0   \n",
      "2     2017-11-15   86.919998   85.529999   86.339996   85.669998   693000.0   \n",
      "3     2017-11-16   87.360001   85.220001   85.639999   87.199997  1578000.0   \n",
      "4     2017-11-17   87.480003   86.669998   86.910004   87.199997  1581600.0   \n",
      "...          ...         ...         ...         ...         ...        ...   \n",
      "1254  2022-11-07  156.070007  149.779999  154.559998  152.000000  1330000.0   \n",
      "1255  2022-11-08  155.429993  151.899994  152.460007  153.759995  1168300.0   \n",
      "1256  2022-11-09  154.990005  151.630005  152.630005  151.630005  1724500.0   \n",
      "1257  2022-11-10  163.740005  157.679993  158.460007  163.089996  1371500.0   \n",
      "1258  2022-11-11  164.339996  157.330002  163.089996  158.330002  1264900.0   \n",
      "\n",
      "       Adj Close      logR  \n",
      "0      75.470901       NaN  \n",
      "1      75.010445 -0.006101  \n",
      "2      74.428368 -0.007760  \n",
      "3      75.757599  0.017859  \n",
      "4      75.757599  0.000000  \n",
      "...          ...       ...  \n",
      "1254  152.000000 -0.012153  \n",
      "1255  153.759995  0.011579  \n",
      "1256  151.630005 -0.013853  \n",
      "1257  163.089996  0.075579  \n",
      "1258  158.330002 -0.029186  \n",
      "\n",
      "[1259 rows x 8 columns]\n",
      "            Date        High         Low        Open       Close   Volume  \\\n",
      "0     2017-11-13  130.926666  128.773331  129.616669  130.706665  2537700   \n",
      "1     2017-11-14  131.096664  129.759995  130.343338  130.323334  1730100   \n",
      "2     2017-11-15  130.960007  129.000000  130.083328  129.896667  1736100   \n",
      "3     2017-11-16  131.633331  130.166672  130.206665  131.266663  1960500   \n",
      "4     2017-11-17  133.333328  130.166672  131.583328  130.826660  1851300   \n",
      "...          ...         ...         ...         ...         ...      ...   \n",
      "1254  2022-11-07  244.199997  239.800003  241.720001  242.330002  2107900   \n",
      "1255  2022-11-08  245.750000  237.559998  242.179993  240.699997  1589700   \n",
      "1256  2022-11-09  241.130005  235.580002  238.759995  236.130005  1761500   \n",
      "1257  2022-11-10  258.730011  247.029999  248.660004  257.859985  3949800   \n",
      "1258  2022-11-11  267.670013  255.740005  255.740005  265.079987  3188300   \n",
      "\n",
      "       Adj Close      logR  \n",
      "0     130.706665       NaN  \n",
      "1     130.323334 -0.002933  \n",
      "2     129.896667 -0.003274  \n",
      "3     131.266663  0.010547  \n",
      "4     130.826660 -0.003352  \n",
      "...          ...       ...  \n",
      "1254  242.330002  0.011690  \n",
      "1255  240.699997 -0.006726  \n",
      "1256  236.130005 -0.018986  \n",
      "1257  257.859985  0.092025  \n",
      "1258  265.079987  0.028000  \n",
      "\n",
      "[1259 rows x 8 columns]\n"
     ]
    }
   ],
   "source": [
    "CCL['logR'] = CCL['Adj Close'].pct_change()\n",
    "print(CCL)\n",
    "EXR['logR'] = EXR['Adj Close'].pct_change()\n",
    "print(EXR)\n",
    "ISRG['logR'] = ISRG['Adj Close'].pct_change()\n",
    "print(ISRG)"
   ]
  },
  {
   "cell_type": "code",
   "execution_count": 75,
   "id": "1aac110b-2717-4792-868b-7fb1a8df56ef",
   "metadata": {},
   "outputs": [
    {
     "name": "stdout",
     "output_type": "stream",
     "text": [
      "-0.3318147198362663\n",
      "0.39290885854428703\n",
      "-0.0004220993279726698\n",
      "-0.0005970086531281726\n"
     ]
    }
   ],
   "source": [
    "print(CCL['logR'].min())\n",
    "print(CCL['logR'].max())\n",
    "print(CCL['logR'].mean())\n",
    "print(CCL['logR'].median())"
   ]
  },
  {
   "cell_type": "code",
   "execution_count": 76,
   "id": "6e1e1795-5659-42ab-bd6f-37bec2b10497",
   "metadata": {},
   "outputs": [
    {
     "name": "stdout",
     "output_type": "stream",
     "text": [
      "-0.1546904795784122\n",
      "0.08176759670091127\n",
      "0.000745890229818256\n",
      "0.0009291299115613549\n"
     ]
    }
   ],
   "source": [
    "print(EXR['logR'].min())\n",
    "print(EXR['logR'].max())\n",
    "print(EXR['logR'].mean())\n",
    "print(EXR['logR'].median())"
   ]
  },
  {
   "cell_type": "code",
   "execution_count": 77,
   "id": "5cbbed1a-c3ba-4e18-8209-30710bdc9884",
   "metadata": {},
   "outputs": [
    {
     "name": "stdout",
     "output_type": "stream",
     "text": [
      "-0.1433615437292215\n",
      "0.17443907458174368\n",
      "0.0008271259652032042\n",
      "0.0018033243171641233\n"
     ]
    }
   ],
   "source": [
    "print(ISRG['logR'].min())\n",
    "print(ISRG['logR'].max())\n",
    "print(ISRG['logR'].mean())\n",
    "print(ISRG['logR'].median())"
   ]
  },
  {
   "cell_type": "code",
   "execution_count": 78,
   "id": "8aa0b384-5eb1-48fb-b4a1-6e9274c898a6",
   "metadata": {},
   "outputs": [],
   "source": [
    "CCL_Date = CCL.set_index(['Date'])\n",
    "EXR_Date = EXR.set_index(['Date'])\n",
    "ISRG_Date = ISRG.set_index(['Date'])"
   ]
  },
  {
   "cell_type": "markdown",
   "id": "43bac1e6-c881-4444-aa53-7d3c332a49d7",
   "metadata": {},
   "source": [
    "### 4"
   ]
  },
  {
   "cell_type": "code",
   "execution_count": 79,
   "id": "17f9c3fd-11d2-4348-bbeb-d898754a257f",
   "metadata": {},
   "outputs": [
    {
     "name": "stdout",
     "output_type": "stream",
     "text": [
      "2020-11-09\n",
      "2020-03-26\n",
      "2020-03-24\n"
     ]
    }
   ],
   "source": [
    "print(CCL_Date['logR'].idxmax())\n",
    "print(EXR_Date['logR'].idxmax())\n",
    "print(ISRG_Date['logR'].idxmax())"
   ]
  },
  {
   "cell_type": "code",
   "execution_count": 80,
   "id": "cbe6b157-3ddb-4017-8879-4716f97b17d6",
   "metadata": {},
   "outputs": [
    {
     "name": "stdout",
     "output_type": "stream",
     "text": [
      "2020-04-01\n",
      "2020-03-16\n",
      "2022-04-22\n"
     ]
    }
   ],
   "source": [
    "print(CCL_Date['logR'].idxmin())\n",
    "print(EXR_Date['logR'].idxmin())\n",
    "print(ISRG_Date['logR'].idxmin())"
   ]
  },
  {
   "cell_type": "markdown",
   "id": "c2493ed5-0086-40db-b411-5140c9b39b68",
   "metadata": {},
   "source": [
    "### 5"
   ]
  },
  {
   "cell_type": "code",
   "execution_count": 107,
   "id": "f1ea8935-8c1c-451f-a78b-458ce62354f1",
   "metadata": {},
   "outputs": [
    {
     "ename": "TypeError",
     "evalue": "resample() got an unexpected keyword argument 'how'",
     "output_type": "error",
     "traceback": [
      "\u001b[1;31m---------------------------------------------------------------------------\u001b[0m",
      "\u001b[1;31mTypeError\u001b[0m                                 Traceback (most recent call last)",
      "Input \u001b[1;32mIn [107]\u001b[0m, in \u001b[0;36m<cell line: 1>\u001b[1;34m()\u001b[0m\n\u001b[1;32m----> 1\u001b[0m CCL_Date_weekly \u001b[38;5;241m=\u001b[39m \u001b[43mCCL_Date\u001b[49m\u001b[38;5;241;43m.\u001b[39;49m\u001b[43mresample\u001b[49m\u001b[43m(\u001b[49m\u001b[38;5;124;43m'\u001b[39;49m\u001b[38;5;124;43mW\u001b[39;49m\u001b[38;5;124;43m'\u001b[39;49m\u001b[43m,\u001b[49m\u001b[43m \u001b[49m\u001b[43mhow\u001b[49m\u001b[38;5;241;43m=\u001b[39;49m\u001b[38;5;124;43m'\u001b[39;49m\u001b[38;5;124;43msum\u001b[39;49m\u001b[38;5;124;43m'\u001b[39;49m\u001b[43m,\u001b[49m\u001b[43m \u001b[49m\u001b[43mon\u001b[49m\u001b[38;5;241;43m=\u001b[39;49m\u001b[38;5;124;43m'\u001b[39;49m\u001b[38;5;124;43mlogR\u001b[39;49m\u001b[38;5;124;43m'\u001b[39;49m\u001b[43m)\u001b[49m\n\u001b[0;32m      2\u001b[0m \u001b[38;5;28mprint\u001b[39m(CCL_Date_weekly)\n",
      "\u001b[1;31mTypeError\u001b[0m: resample() got an unexpected keyword argument 'how'"
     ]
    }
   ],
   "source": [
    "CCL_Date_weekly = CCL_Date.resample('W', how='sum', on='logR')\n",
    "print(CCL_Date_weekly)"
   ]
  },
  {
   "cell_type": "markdown",
   "id": "1333e994-3e70-48f2-93bb-d72e93501f92",
   "metadata": {},
   "source": [
    "### 7"
   ]
  },
  {
   "cell_type": "code",
   "execution_count": 84,
   "id": "ff9aaa08-32ab-4b0d-99fd-e06ebeb38592",
   "metadata": {},
   "outputs": [
    {
     "data": {
      "text/plain": [
       "<AxesSubplot:xlabel='Date'>"
      ]
     },
     "execution_count": 84,
     "metadata": {},
     "output_type": "execute_result"
    },
    {
     "data": {
      "image/png": "[encoded data removed]",
      "text/plain": [
       "<Figure size 432x288 with 1 Axes>"
      ]
     },
     "metadata": {
      "needs_background": "light"
     },
     "output_type": "display_data"
    }
   ],
   "source": [
    "CCL_Date['logR'].plot()"
   ]
  },
  {
   "cell_type": "code",
   "execution_count": 85,
   "id": "965467eb-50e2-4d42-be79-288c0266bb4d",
   "metadata": {},
   "outputs": [
    {
     "data": {
      "text/plain": [
       "<AxesSubplot:xlabel='Date'>"
      ]
     },
     "execution_count": 85,
     "metadata": {},
     "output_type": "execute_result"
    },
    {
     "data": {
      "image/png": "[encoded data removed]",
      "text/plain": [
       "<Figure size 432x288 with 1 Axes>"
      ]
     },
     "metadata": {
      "needs_background": "light"
     },
     "output_type": "display_data"
    }
   ],
   "source": [
    "EXR_Date['logR'].plot()"
   ]
  },
  {
   "cell_type": "code",
   "execution_count": 86,
   "id": "f3989190-9282-4307-86ff-d6d078e69163",
   "metadata": {},
   "outputs": [
    {
     "data": {
      "text/plain": [
       "<AxesSubplot:xlabel='Date'>"
      ]
     },
     "execution_count": 86,
     "metadata": {},
     "output_type": "execute_result"
    },
    {
     "data": {
      "image/png": "[encoded data removed]",
      "text/plain": [
       "<Figure size 432x288 with 1 Axes>"
      ]
     },
     "metadata": {
      "needs_background": "light"
     },
     "output_type": "display_data"
    }
   ],
   "source": [
    "ISRG_Date['logR'].plot()"
   ]
  },
  {
   "cell_type": "markdown",
   "id": "16f9652d-acbf-4692-b15f-7bd702faff7e",
   "metadata": {},
   "source": [
    "### 8"
   ]
  },
  {
   "cell_type": "code",
   "execution_count": 109,
   "id": "477403a1-b985-4989-8961-ea59429ce13b",
   "metadata": {},
   "outputs": [
    {
     "data": {
      "text/plain": [
       "<seaborn.axisgrid.FacetGrid at 0x1ffebeb8df0>"
      ]
     },
     "execution_count": 109,
     "metadata": {},
     "output_type": "execute_result"
    },
    {
     "data": {
      "image/png": "[encoded data removed]",
      "text/plain": [
       "<Figure size 360x360 with 1 Axes>"
      ]
     },
     "metadata": {
      "needs_background": "light"
     },
     "output_type": "display_data"
    }
   ],
   "source": [
    "sns.displot(ISRG_Date['logR'], binwidth=20)"
   ]
  },
  {
   "cell_type": "markdown",
   "id": "bdb7fb0a-8b19-4d0d-9c9a-00eb61a5b439",
   "metadata": {},
   "source": [
    "# 2"
   ]
  },
  {
   "cell_type": "markdown",
   "id": "d8475073-7a81-4741-81fb-00a48f745ed9",
   "metadata": {},
   "source": [
    "### 1"
   ]
  },
  {
   "cell_type": "code",
   "execution_count": 111,
   "id": "291dfac9-1a11-4d87-9b30-b4b00106a111",
   "metadata": {},
   "outputs": [
    {
     "data": {
      "text/html": [
       "<div>\n",
       "<style scoped>\n",
       "    .dataframe tbody tr th:only-of-type {\n",
       "        vertical-align: middle;\n",
       "    }\n",
       "\n",
       "    .dataframe tbody tr th {\n",
       "        vertical-align: top;\n",
       "    }\n",
       "\n",
       "    .dataframe thead th {\n",
       "        text-align: right;\n",
       "    }\n",
       "</style>\n",
       "<table border=\"1\" class=\"dataframe\">\n",
       "  <thead>\n",
       "    <tr style=\"text-align: right;\">\n",
       "      <th></th>\n",
       "      <th>Symbol</th>\n",
       "      <th>Security</th>\n",
       "      <th>GICS Sector</th>\n",
       "      <th>hq</th>\n",
       "      <th>included</th>\n",
       "      <th>Founded</th>\n",
       "    </tr>\n",
       "  </thead>\n",
       "  <tbody>\n",
       "    <tr>\n",
       "      <th>0</th>\n",
       "      <td>MMM</td>\n",
       "      <td>3M</td>\n",
       "      <td>Industrials</td>\n",
       "      <td>Saint Paul, Minnesota</td>\n",
       "      <td>09.08.1976</td>\n",
       "      <td>1902</td>\n",
       "    </tr>\n",
       "    <tr>\n",
       "      <th>1</th>\n",
       "      <td>AOS</td>\n",
       "      <td>A. O. Smith</td>\n",
       "      <td>Industrials</td>\n",
       "      <td>Milwaukee, Wisconsin</td>\n",
       "      <td>26.07.2017</td>\n",
       "      <td>1916</td>\n",
       "    </tr>\n",
       "    <tr>\n",
       "      <th>2</th>\n",
       "      <td>ABT</td>\n",
       "      <td>Abbott</td>\n",
       "      <td>Health Care</td>\n",
       "      <td>North Chicago, Illinois</td>\n",
       "      <td>31.03.1964</td>\n",
       "      <td>1888</td>\n",
       "    </tr>\n",
       "    <tr>\n",
       "      <th>3</th>\n",
       "      <td>ABBV</td>\n",
       "      <td>AbbVie</td>\n",
       "      <td>Health Care</td>\n",
       "      <td>North Chicago, Illinois</td>\n",
       "      <td>31.12.2012</td>\n",
       "      <td>2013 (1888)</td>\n",
       "    </tr>\n",
       "    <tr>\n",
       "      <th>4</th>\n",
       "      <td>ABMD</td>\n",
       "      <td>Abiomed</td>\n",
       "      <td>Health Care</td>\n",
       "      <td>Danvers, Massachusetts</td>\n",
       "      <td>31.05.2018</td>\n",
       "      <td>1981</td>\n",
       "    </tr>\n",
       "    <tr>\n",
       "      <th>...</th>\n",
       "      <td>...</td>\n",
       "      <td>...</td>\n",
       "      <td>...</td>\n",
       "      <td>...</td>\n",
       "      <td>...</td>\n",
       "      <td>...</td>\n",
       "    </tr>\n",
       "    <tr>\n",
       "      <th>498</th>\n",
       "      <td>YUM</td>\n",
       "      <td>Yum! Brands</td>\n",
       "      <td>Consumer Discretionary</td>\n",
       "      <td>Louisville, Kentucky</td>\n",
       "      <td>06.10.1997</td>\n",
       "      <td>1997</td>\n",
       "    </tr>\n",
       "    <tr>\n",
       "      <th>499</th>\n",
       "      <td>ZBRA</td>\n",
       "      <td>Zebra Technologies</td>\n",
       "      <td>Information Technology</td>\n",
       "      <td>Lincolnshire, Illinois</td>\n",
       "      <td>23.12.2019</td>\n",
       "      <td>1969</td>\n",
       "    </tr>\n",
       "    <tr>\n",
       "      <th>500</th>\n",
       "      <td>ZBH</td>\n",
       "      <td>Zimmer Biomet</td>\n",
       "      <td>Health Care</td>\n",
       "      <td>Warsaw, Indiana</td>\n",
       "      <td>07.08.2001</td>\n",
       "      <td>1927</td>\n",
       "    </tr>\n",
       "    <tr>\n",
       "      <th>501</th>\n",
       "      <td>ZION</td>\n",
       "      <td>Zions Bancorporation</td>\n",
       "      <td>Financials</td>\n",
       "      <td>Salt Lake City, Utah</td>\n",
       "      <td>22.06.2001</td>\n",
       "      <td>1873</td>\n",
       "    </tr>\n",
       "    <tr>\n",
       "      <th>502</th>\n",
       "      <td>ZTS</td>\n",
       "      <td>Zoetis</td>\n",
       "      <td>Health Care</td>\n",
       "      <td>Parsippany, New Jersey</td>\n",
       "      <td>21.06.2013</td>\n",
       "      <td>1952</td>\n",
       "    </tr>\n",
       "  </tbody>\n",
       "</table>\n",
       "<p>503 rows × 6 columns</p>\n",
       "</div>"
      ],
      "text/plain": [
       "    Symbol              Security             GICS Sector  \\\n",
       "0      MMM                    3M             Industrials   \n",
       "1      AOS           A. O. Smith             Industrials   \n",
       "2      ABT                Abbott             Health Care   \n",
       "3     ABBV                AbbVie             Health Care   \n",
       "4     ABMD               Abiomed             Health Care   \n",
       "..     ...                   ...                     ...   \n",
       "498    YUM           Yum! Brands  Consumer Discretionary   \n",
       "499   ZBRA    Zebra Technologies  Information Technology   \n",
       "500    ZBH         Zimmer Biomet             Health Care   \n",
       "501   ZION  Zions Bancorporation              Financials   \n",
       "502    ZTS                Zoetis             Health Care   \n",
       "\n",
       "                          hq    included      Founded  \n",
       "0      Saint Paul, Minnesota  09.08.1976         1902  \n",
       "1       Milwaukee, Wisconsin  26.07.2017         1916  \n",
       "2    North Chicago, Illinois  31.03.1964         1888  \n",
       "3    North Chicago, Illinois  31.12.2012  2013 (1888)  \n",
       "4     Danvers, Massachusetts  31.05.2018         1981  \n",
       "..                       ...         ...          ...  \n",
       "498     Louisville, Kentucky  06.10.1997         1997  \n",
       "499   Lincolnshire, Illinois  23.12.2019         1969  \n",
       "500          Warsaw, Indiana  07.08.2001         1927  \n",
       "501     Salt Lake City, Utah  22.06.2001         1873  \n",
       "502   Parsippany, New Jersey  21.06.2013         1952  \n",
       "\n",
       "[503 rows x 6 columns]"
      ]
     },
     "execution_count": 111,
     "metadata": {},
     "output_type": "execute_result"
    }
   ],
   "source": [
    "COMP = pd.read_csv('companies_no_subindustry.csv')\n",
    "COMP"
   ]
  },
  {
   "cell_type": "code",
   "execution_count": 118,
   "id": "b625dd29-f86d-458a-9c55-c04d24c5dc4d",
   "metadata": {},
   "outputs": [
    {
     "data": {
      "text/plain": [
       "503"
      ]
     },
     "execution_count": 118,
     "metadata": {},
     "output_type": "execute_result"
    }
   ],
   "source": [
    "COMP['included'] "
   ]
  }
 ],
 "metadata": {
  "kernelspec": {
   "display_name": "Python 3 (ipykernel)",
   "language": "python",
   "name": "python3"
  },
  "language_info": {
   "codemirror_mode": {
    "name": "ipython",
    "version": 3
   },
   "file_extension": ".py",
   "mimetype": "text/x-python",
   "name": "python",
   "nbconvert_exporter": "python",
   "pygments_lexer": "ipython3",
   "version": "3.9.12"
  }
 },
 "nbformat": 4,
 "nbformat_minor": 5
}
